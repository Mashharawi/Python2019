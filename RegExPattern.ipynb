{
 "cells": [
  {
   "cell_type": "code",
   "execution_count": 19,
   "metadata": {},
   "outputs": [],
   "source": [
    "import re\n",
    "Sen = '''this Python Programming %%! Tutorial, \n",
    "we will be learning how. to read, \n",
    "write, and match. regular expressions. with the re module '''"
   ]
  },
  {
   "cell_type": "code",
   "execution_count": null,
   "metadata": {},
   "outputs": [],
   "source": [
    "pat = re.compile(r'.')\n",
    "matches = pat.finditer(Sen)\n",
    "for match in matches:\n",
    "                 print(match)\n",
    "                 "
   ]
  },
  {
   "cell_type": "code",
   "execution_count": 11,
   "metadata": {},
   "outputs": [
    {
     "name": "stdout",
     "output_type": "stream",
     "text": [
      "to\n"
     ]
    }
   ],
   "source": [
    "print(Sen[26:28]) #from letter 26 to 28"
   ]
  },
  {
   "cell_type": "code",
   "execution_count": 20,
   "metadata": {},
   "outputs": [
    {
     "name": "stdout",
     "output_type": "stream",
     "text": [
      "<re.Match object; span=(62, 63), match='.'>\n",
      "<re.Match object; span=(90, 91), match='.'>\n",
      "<re.Match object; span=(111, 112), match='.'>\n"
     ]
    }
   ],
   "source": [
    "pat = re.compile(r'\\.')\n",
    "matches = pat.finditer(Sen)\n",
    "for match in matches:\n",
    "                 print(match)\n",
    "                 "
   ]
  },
  {
   "cell_type": "markdown",
   "metadata": {},
   "source": [
    "### /s whitespaces include space -tab -newline"
   ]
  },
  {
   "cell_type": "code",
   "execution_count": 21,
   "metadata": {},
   "outputs": [
    {
     "name": "stdout",
     "output_type": "stream",
     "text": [
      "<re.Match object; span=(4, 5), match=' '>\n",
      "<re.Match object; span=(11, 12), match=' '>\n",
      "<re.Match object; span=(23, 24), match=' '>\n",
      "<re.Match object; span=(27, 28), match=' '>\n",
      "<re.Match object; span=(37, 38), match=' '>\n",
      "<re.Match object; span=(38, 39), match='\\n'>\n",
      "<re.Match object; span=(41, 42), match=' '>\n",
      "<re.Match object; span=(46, 47), match=' '>\n",
      "<re.Match object; span=(49, 50), match=' '>\n",
      "<re.Match object; span=(58, 59), match=' '>\n",
      "<re.Match object; span=(63, 64), match=' '>\n",
      "<re.Match object; span=(66, 67), match=' '>\n",
      "<re.Match object; span=(72, 73), match=' '>\n",
      "<re.Match object; span=(73, 74), match='\\n'>\n",
      "<re.Match object; span=(80, 81), match=' '>\n",
      "<re.Match object; span=(84, 85), match=' '>\n",
      "<re.Match object; span=(91, 92), match=' '>\n",
      "<re.Match object; span=(99, 100), match=' '>\n",
      "<re.Match object; span=(112, 113), match=' '>\n",
      "<re.Match object; span=(117, 118), match=' '>\n",
      "<re.Match object; span=(121, 122), match=' '>\n",
      "<re.Match object; span=(124, 125), match=' '>\n",
      "<re.Match object; span=(131, 132), match=' '>\n"
     ]
    }
   ],
   "source": [
    "pat = re.compile(r'\\s')\n",
    "matches = pat.finditer(Sen)\n",
    "for match in matches:\n",
    "                 print(match)"
   ]
  },
  {
   "cell_type": "code",
   "execution_count": null,
   "metadata": {},
   "outputs": [],
   "source": [
    "pat = re.compile(r' ')\n",
    "matches = pat.finditer(Sen)\n",
    "for match in matches:\n",
    "                 print(match)"
   ]
  },
  {
   "cell_type": "markdown",
   "metadata": {},
   "source": [
    "\\b word boundry كلمة كاملة مستقلة\n",
    "\\B كلمة كاملة بالوسط وليست مستقلة\n",
    "\n"
   ]
  },
  {
   "cell_type": "code",
   "execution_count": 27,
   "metadata": {},
   "outputs": [
    {
     "name": "stdout",
     "output_type": "stream",
     "text": [
      "<re.Match object; span=(0, 1), match='t'>\n",
      "<callable_iterator object at 0x00000134BDE71518>\n"
     ]
    }
   ],
   "source": [
    "# chech exsistance of t in the bigining of txt only\n",
    "pat = re.compile(r'^t')\n",
    "matches = pat.finditer(Sen)\n",
    "for match in matches:\n",
    "                 print(match)\n",
    "print(matches)"
   ]
  },
  {
   "cell_type": "code",
   "execution_count": 25,
   "metadata": {},
   "outputs": [],
   "source": [
    "pat = re.compile(r'^e')\n",
    "matches = pat.finditer(Sen)\n",
    "for match in matches:\n",
    "                 print(match)"
   ]
  },
  {
   "cell_type": "code",
   "execution_count": null,
   "metadata": {},
   "outputs": [],
   "source": []
  }
 ],
 "metadata": {
  "kernelspec": {
   "display_name": "Python 3",
   "language": "python",
   "name": "python3"
  },
  "language_info": {
   "codemirror_mode": {
    "name": "ipython",
    "version": 3
   },
   "file_extension": ".py",
   "mimetype": "text/x-python",
   "name": "python",
   "nbconvert_exporter": "python",
   "pygments_lexer": "ipython3",
   "version": "3.7.3"
  }
 },
 "nbformat": 4,
 "nbformat_minor": 2
}
