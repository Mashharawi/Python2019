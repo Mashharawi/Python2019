{
 "cells": [
  {
   "cell_type": "code",
   "execution_count": 10,
   "metadata": {},
   "outputs": [],
   "source": [
    "txt  = '''Python Program to Count the Number of Words in a Text File. The program takes the file name from the user and counts number of words in that file. Take the file name from the user. Read each line from the file and split the line to form a list of words. Here is source code of the Python Program to \n",
    " Python Program to Count the Number of Words in a Text File. The program takes the file name from the user and counts number of words in that file. Take the file name from the user. Read each line from the file and split the line to form a list of words. Here is source code of the Python Program to '''\n",
    "\n",
    "\n"
   ]
  },
  {
   "cell_type": "code",
   "execution_count": 11,
   "metadata": {},
   "outputs": [
    {
     "name": "stdout",
     "output_type": "stream",
     "text": [
      "['Python', 'Program', 'to', 'Count', 'the', 'Number', 'of', 'Words', 'in', 'a', 'Text', 'File.', 'The', 'program', 'takes', 'the', 'file', 'name', 'from', 'the', 'user', 'and', 'counts', 'number', 'of', 'words', 'in', 'that', 'file.', 'Take', 'the', 'file', 'name', 'from', 'the', 'user.', 'Read', 'each', 'line', 'from', 'the', 'file', 'and', 'split', 'the', 'line', 'to', 'form', 'a', 'list', 'of', 'words.', 'Here', 'is', 'source', 'code', 'of', 'the', 'Python', 'Program', 'to', 'Python', 'Program', 'to', 'Count', 'the', 'Number', 'of', 'Words', 'in', 'a', 'Text', 'File.', 'The', 'program', 'takes', 'the', 'file', 'name', 'from', 'the', 'user', 'and', 'counts', 'number', 'of', 'words', 'in', 'that', 'file.', 'Take', 'the', 'file', 'name', 'from', 'the', 'user.', 'Read', 'each', 'line', 'from', 'the', 'file', 'and', 'split', 'the', 'line', 'to', 'form', 'a', 'list', 'of', 'words.', 'Here', 'is', 'source', 'code', 'of', 'the', 'Python', 'Program', 'to']\n"
     ]
    }
   ],
   "source": [
    "txt_list=txt.split()\n",
    "print(txt_list)\n",
    "mydic={}\n"
   ]
  },
  {
   "cell_type": "code",
   "execution_count": 15,
   "metadata": {},
   "outputs": [
    {
     "name": "stdout",
     "output_type": "stream",
     "text": [
      "{'Python': 8, 'Program': 8, 'to': 12, 'Count': 4, 'the': 32, 'Number': 4, 'of': 16, 'Words': 4, 'in': 8, 'a': 8, 'Text': 4, 'File.': 4, 'The': 4, 'program': 4, 'takes': 4, 'file': 12, 'name': 8, 'from': 12, 'user': 4, 'and': 8, 'counts': 4, 'number': 4, 'words': 4, 'that': 4, 'file.': 4, 'Take': 4, 'user.': 4, 'Read': 4, 'each': 4, 'line': 8, 'split': 4, 'form': 4, 'list': 4, 'words.': 4, 'Here': 4, 'is': 4, 'source': 4, 'code': 4}\n"
     ]
    }
   ],
   "source": [
    "for word in txt_list:\n",
    "    if word not in mydic.keys():\n",
    "        mydic[word]=1\n",
    "    else:\n",
    "        count=mydic[word]\n",
    "        #print('count', count)\n",
    "        mydic[word]=count+1\n",
    "print(mydic)"
   ]
  },
  {
   "cell_type": "code",
   "execution_count": 17,
   "metadata": {},
   "outputs": [
    {
     "name": "stdout",
     "output_type": "stream",
     "text": [
      "['__class__', '__contains__', '__delattr__', '__delitem__', '__dir__', '__doc__', '__eq__', '__format__', '__ge__', '__getattribute__', '__getitem__', '__gt__', '__hash__', '__init__', '__init_subclass__', '__iter__', '__le__', '__len__', '__lt__', '__ne__', '__new__', '__reduce__', '__reduce_ex__', '__repr__', '__setattr__', '__setitem__', '__sizeof__', '__str__', '__subclasshook__', 'clear', 'copy', 'fromkeys', 'get', 'items', 'keys', 'pop', 'popitem', 'setdefault', 'update', 'values']\n"
     ]
    }
   ],
   "source": [
    "print(dir(mydic))"
   ]
  },
  {
   "cell_type": "code",
   "execution_count": null,
   "metadata": {},
   "outputs": [],
   "source": []
  },
  {
   "cell_type": "code",
   "execution_count": null,
   "metadata": {},
   "outputs": [],
   "source": []
  },
  {
   "cell_type": "code",
   "execution_count": null,
   "metadata": {},
   "outputs": [],
   "source": []
  }
 ],
 "metadata": {
  "kernelspec": {
   "display_name": "Python 3",
   "language": "python",
   "name": "python3"
  },
  "language_info": {
   "codemirror_mode": {
    "name": "ipython",
    "version": 3
   },
   "file_extension": ".py",
   "mimetype": "text/x-python",
   "name": "python",
   "nbconvert_exporter": "python",
   "pygments_lexer": "ipython3",
   "version": "3.6.5"
  }
 },
 "nbformat": 4,
 "nbformat_minor": 4
}
